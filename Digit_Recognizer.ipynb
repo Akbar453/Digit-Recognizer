{
  "nbformat": 4,
  "nbformat_minor": 0,
  "metadata": {
    "colab": {
      "provenance": [],
      "authorship_tag": "ABX9TyPNxHG3e/dLdr100pN7EcCN",
      "include_colab_link": true
    },
    "kernelspec": {
      "name": "python3",
      "display_name": "Python 3"
    },
    "language_info": {
      "name": "python"
    }
  },
  "cells": [
    {
      "cell_type": "markdown",
      "metadata": {
        "id": "view-in-github",
        "colab_type": "text"
      },
      "source": [
        "<a href=\"https://colab.research.google.com/github/Akbar453/Digit-Recognizer/blob/main/Digit_Recognizer.ipynb\" target=\"_parent\"><img src=\"https://colab.research.google.com/assets/colab-badge.svg\" alt=\"Open In Colab\"/></a>"
      ]
    },
    {
      "cell_type": "code",
      "source": [
        "from google.colab import files\n",
        "files.upload()"
      ],
      "metadata": {
        "colab": {
          "base_uri": "https://localhost:8080/",
          "height": 90
        },
        "id": "S9ANIVNk273q",
        "outputId": "c3927273-b744-4ef9-8698-4ef5c920588e"
      },
      "execution_count": 19,
      "outputs": [
        {
          "output_type": "display_data",
          "data": {
            "text/plain": [
              "<IPython.core.display.HTML object>"
            ],
            "text/html": [
              "\n",
              "     <input type=\"file\" id=\"files-3bbe14a8-9e65-47b0-aa8e-87a422f594ef\" name=\"files[]\" multiple disabled\n",
              "        style=\"border:none\" />\n",
              "     <output id=\"result-3bbe14a8-9e65-47b0-aa8e-87a422f594ef\">\n",
              "      Upload widget is only available when the cell has been executed in the\n",
              "      current browser session. Please rerun this cell to enable.\n",
              "      </output>\n",
              "      <script>// Copyright 2017 Google LLC\n",
              "//\n",
              "// Licensed under the Apache License, Version 2.0 (the \"License\");\n",
              "// you may not use this file except in compliance with the License.\n",
              "// You may obtain a copy of the License at\n",
              "//\n",
              "//      http://www.apache.org/licenses/LICENSE-2.0\n",
              "//\n",
              "// Unless required by applicable law or agreed to in writing, software\n",
              "// distributed under the License is distributed on an \"AS IS\" BASIS,\n",
              "// WITHOUT WARRANTIES OR CONDITIONS OF ANY KIND, either express or implied.\n",
              "// See the License for the specific language governing permissions and\n",
              "// limitations under the License.\n",
              "\n",
              "/**\n",
              " * @fileoverview Helpers for google.colab Python module.\n",
              " */\n",
              "(function(scope) {\n",
              "function span(text, styleAttributes = {}) {\n",
              "  const element = document.createElement('span');\n",
              "  element.textContent = text;\n",
              "  for (const key of Object.keys(styleAttributes)) {\n",
              "    element.style[key] = styleAttributes[key];\n",
              "  }\n",
              "  return element;\n",
              "}\n",
              "\n",
              "// Max number of bytes which will be uploaded at a time.\n",
              "const MAX_PAYLOAD_SIZE = 100 * 1024;\n",
              "\n",
              "function _uploadFiles(inputId, outputId) {\n",
              "  const steps = uploadFilesStep(inputId, outputId);\n",
              "  const outputElement = document.getElementById(outputId);\n",
              "  // Cache steps on the outputElement to make it available for the next call\n",
              "  // to uploadFilesContinue from Python.\n",
              "  outputElement.steps = steps;\n",
              "\n",
              "  return _uploadFilesContinue(outputId);\n",
              "}\n",
              "\n",
              "// This is roughly an async generator (not supported in the browser yet),\n",
              "// where there are multiple asynchronous steps and the Python side is going\n",
              "// to poll for completion of each step.\n",
              "// This uses a Promise to block the python side on completion of each step,\n",
              "// then passes the result of the previous step as the input to the next step.\n",
              "function _uploadFilesContinue(outputId) {\n",
              "  const outputElement = document.getElementById(outputId);\n",
              "  const steps = outputElement.steps;\n",
              "\n",
              "  const next = steps.next(outputElement.lastPromiseValue);\n",
              "  return Promise.resolve(next.value.promise).then((value) => {\n",
              "    // Cache the last promise value to make it available to the next\n",
              "    // step of the generator.\n",
              "    outputElement.lastPromiseValue = value;\n",
              "    return next.value.response;\n",
              "  });\n",
              "}\n",
              "\n",
              "/**\n",
              " * Generator function which is called between each async step of the upload\n",
              " * process.\n",
              " * @param {string} inputId Element ID of the input file picker element.\n",
              " * @param {string} outputId Element ID of the output display.\n",
              " * @return {!Iterable<!Object>} Iterable of next steps.\n",
              " */\n",
              "function* uploadFilesStep(inputId, outputId) {\n",
              "  const inputElement = document.getElementById(inputId);\n",
              "  inputElement.disabled = false;\n",
              "\n",
              "  const outputElement = document.getElementById(outputId);\n",
              "  outputElement.innerHTML = '';\n",
              "\n",
              "  const pickedPromise = new Promise((resolve) => {\n",
              "    inputElement.addEventListener('change', (e) => {\n",
              "      resolve(e.target.files);\n",
              "    });\n",
              "  });\n",
              "\n",
              "  const cancel = document.createElement('button');\n",
              "  inputElement.parentElement.appendChild(cancel);\n",
              "  cancel.textContent = 'Cancel upload';\n",
              "  const cancelPromise = new Promise((resolve) => {\n",
              "    cancel.onclick = () => {\n",
              "      resolve(null);\n",
              "    };\n",
              "  });\n",
              "\n",
              "  // Wait for the user to pick the files.\n",
              "  const files = yield {\n",
              "    promise: Promise.race([pickedPromise, cancelPromise]),\n",
              "    response: {\n",
              "      action: 'starting',\n",
              "    }\n",
              "  };\n",
              "\n",
              "  cancel.remove();\n",
              "\n",
              "  // Disable the input element since further picks are not allowed.\n",
              "  inputElement.disabled = true;\n",
              "\n",
              "  if (!files) {\n",
              "    return {\n",
              "      response: {\n",
              "        action: 'complete',\n",
              "      }\n",
              "    };\n",
              "  }\n",
              "\n",
              "  for (const file of files) {\n",
              "    const li = document.createElement('li');\n",
              "    li.append(span(file.name, {fontWeight: 'bold'}));\n",
              "    li.append(span(\n",
              "        `(${file.type || 'n/a'}) - ${file.size} bytes, ` +\n",
              "        `last modified: ${\n",
              "            file.lastModifiedDate ? file.lastModifiedDate.toLocaleDateString() :\n",
              "                                    'n/a'} - `));\n",
              "    const percent = span('0% done');\n",
              "    li.appendChild(percent);\n",
              "\n",
              "    outputElement.appendChild(li);\n",
              "\n",
              "    const fileDataPromise = new Promise((resolve) => {\n",
              "      const reader = new FileReader();\n",
              "      reader.onload = (e) => {\n",
              "        resolve(e.target.result);\n",
              "      };\n",
              "      reader.readAsArrayBuffer(file);\n",
              "    });\n",
              "    // Wait for the data to be ready.\n",
              "    let fileData = yield {\n",
              "      promise: fileDataPromise,\n",
              "      response: {\n",
              "        action: 'continue',\n",
              "      }\n",
              "    };\n",
              "\n",
              "    // Use a chunked sending to avoid message size limits. See b/62115660.\n",
              "    let position = 0;\n",
              "    do {\n",
              "      const length = Math.min(fileData.byteLength - position, MAX_PAYLOAD_SIZE);\n",
              "      const chunk = new Uint8Array(fileData, position, length);\n",
              "      position += length;\n",
              "\n",
              "      const base64 = btoa(String.fromCharCode.apply(null, chunk));\n",
              "      yield {\n",
              "        response: {\n",
              "          action: 'append',\n",
              "          file: file.name,\n",
              "          data: base64,\n",
              "        },\n",
              "      };\n",
              "\n",
              "      let percentDone = fileData.byteLength === 0 ?\n",
              "          100 :\n",
              "          Math.round((position / fileData.byteLength) * 100);\n",
              "      percent.textContent = `${percentDone}% done`;\n",
              "\n",
              "    } while (position < fileData.byteLength);\n",
              "  }\n",
              "\n",
              "  // All done.\n",
              "  yield {\n",
              "    response: {\n",
              "      action: 'complete',\n",
              "    }\n",
              "  };\n",
              "}\n",
              "\n",
              "scope.google = scope.google || {};\n",
              "scope.google.colab = scope.google.colab || {};\n",
              "scope.google.colab._files = {\n",
              "  _uploadFiles,\n",
              "  _uploadFilesContinue,\n",
              "};\n",
              "})(self);\n",
              "</script> "
            ]
          },
          "metadata": {}
        },
        {
          "output_type": "stream",
          "name": "stdout",
          "text": [
            "Saving kaggle.json to kaggle.json\n"
          ]
        },
        {
          "output_type": "execute_result",
          "data": {
            "text/plain": [
              "{'kaggle.json': b'{\"username\":\"syedmohammadakbar\",\"key\":\"9ee098c45e6c553d292d621adc38d61c\"}'}"
            ]
          },
          "metadata": {},
          "execution_count": 19
        }
      ]
    },
    {
      "cell_type": "code",
      "source": [
        "!mkdir -p ~/.kaggle\n",
        "!cp kaggle.json ~/.kaggle/"
      ],
      "metadata": {
        "id": "HgkVtW4r4BWk"
      },
      "execution_count": 20,
      "outputs": []
    },
    {
      "cell_type": "code",
      "source": [
        "!pip install kaggle\n"
      ],
      "metadata": {
        "colab": {
          "base_uri": "https://localhost:8080/"
        },
        "id": "XpbNKtse4MWP",
        "outputId": "edf55a3a-b329-403b-c2f0-1fc083150655"
      },
      "execution_count": 21,
      "outputs": [
        {
          "output_type": "stream",
          "name": "stdout",
          "text": [
            "Requirement already satisfied: kaggle in /usr/local/lib/python3.10/dist-packages (1.6.17)\n",
            "Requirement already satisfied: six>=1.10 in /usr/local/lib/python3.10/dist-packages (from kaggle) (1.16.0)\n",
            "Requirement already satisfied: certifi>=2023.7.22 in /usr/local/lib/python3.10/dist-packages (from kaggle) (2024.7.4)\n",
            "Requirement already satisfied: python-dateutil in /usr/local/lib/python3.10/dist-packages (from kaggle) (2.8.2)\n",
            "Requirement already satisfied: requests in /usr/local/lib/python3.10/dist-packages (from kaggle) (2.32.3)\n",
            "Requirement already satisfied: tqdm in /usr/local/lib/python3.10/dist-packages (from kaggle) (4.66.5)\n",
            "Requirement already satisfied: python-slugify in /usr/local/lib/python3.10/dist-packages (from kaggle) (8.0.4)\n",
            "Requirement already satisfied: urllib3 in /usr/local/lib/python3.10/dist-packages (from kaggle) (2.0.7)\n",
            "Requirement already satisfied: bleach in /usr/local/lib/python3.10/dist-packages (from kaggle) (6.1.0)\n",
            "Requirement already satisfied: webencodings in /usr/local/lib/python3.10/dist-packages (from bleach->kaggle) (0.5.1)\n",
            "Requirement already satisfied: text-unidecode>=1.3 in /usr/local/lib/python3.10/dist-packages (from python-slugify->kaggle) (1.3)\n",
            "Requirement already satisfied: charset-normalizer<4,>=2 in /usr/local/lib/python3.10/dist-packages (from requests->kaggle) (3.3.2)\n",
            "Requirement already satisfied: idna<4,>=2.5 in /usr/local/lib/python3.10/dist-packages (from requests->kaggle) (3.7)\n"
          ]
        }
      ]
    },
    {
      "cell_type": "code",
      "source": [
        "!kaggle competitions download -c digit-recognizer\n"
      ],
      "metadata": {
        "colab": {
          "base_uri": "https://localhost:8080/"
        },
        "id": "vWns0TjQ4Saw",
        "outputId": "29b59c23-a3d6-4811-c0a8-9b9f085950f6"
      },
      "execution_count": 22,
      "outputs": [
        {
          "output_type": "stream",
          "name": "stdout",
          "text": [
            "Warning: Your Kaggle API key is readable by other users on this system! To fix this, you can run 'chmod 600 /root/.kaggle/kaggle.json'\n",
            "Downloading digit-recognizer.zip to /content\n",
            " 72% 11.0M/15.3M [00:00<00:00, 114MB/s]\n",
            "100% 15.3M/15.3M [00:00<00:00, 134MB/s]\n"
          ]
        }
      ]
    },
    {
      "cell_type": "code",
      "source": [
        "!unzip digit-recognizer.zip\n"
      ],
      "metadata": {
        "colab": {
          "base_uri": "https://localhost:8080/"
        },
        "id": "7si3Eb0L4XrL",
        "outputId": "31ef5b49-5ab1-438f-be7f-11b15e4e2740"
      },
      "execution_count": 23,
      "outputs": [
        {
          "output_type": "stream",
          "name": "stdout",
          "text": [
            "Archive:  digit-recognizer.zip\n",
            "  inflating: sample_submission.csv   \n",
            "  inflating: test.csv                \n",
            "  inflating: train.csv               \n"
          ]
        }
      ]
    },
    {
      "cell_type": "code",
      "execution_count": 24,
      "metadata": {
        "id": "qCId6v0nzU6T"
      },
      "outputs": [],
      "source": [
        "import numpy as np\n",
        "import pandas as pd\n",
        "import matplotlib.pyplot as plt\n",
        "import math\n",
        "%matplotlib inline\n",
        "# plt.rcParams['figure.figsize'] = (7.0, 4.0) # set default size of plots\n",
        "# plt.rcParams['image.interpolation'] = 'nearest'\n",
        "# plt.rcParams['image.cmap'] = 'gray'"
      ]
    },
    {
      "cell_type": "code",
      "source": [
        "def sigmoid(Z):\n",
        "    A = 1/(1+np.exp(-Z))\n",
        "    return A\n",
        "\n",
        "def softmax(z):\n",
        "    expZ = np.exp(z)\n",
        "    return expZ/(np.sum(expZ, 0))\n",
        "\n",
        "def relu(Z):\n",
        "    A = np.maximum(0,Z)\n",
        "    return A\n",
        "\n",
        "def tanh(x):\n",
        "    return np.tanh(x)\n",
        "\n",
        "def derivative_relu(Z):\n",
        "    return np.array(Z > 0, dtype = 'float')\n",
        "\n",
        "def derivative_tanh(x):\n",
        "    return (1 - x ** 2)"
      ],
      "metadata": {
        "id": "w_AnKjjlzjN3"
      },
      "execution_count": 25,
      "outputs": []
    },
    {
      "cell_type": "markdown",
      "source": [
        "**intilization of parameter with He**\n",
        "_If you have heard of \"Xavier initialization\", this is similar except Xavier initialization uses a scaling factor for the weights  \n",
        "W\n",
        "[\n",
        "l\n",
        "]\n",
        "  of sqrt(1./layers_dims[l-1]) where He initialization would use sqrt(2./layers_dims[l-1])._\n",
        "\n",
        "Speed up the convergence of gradient descent\n",
        "Increase the odds of gradient descent converging to a lower training (and generalization) error\n",
        "Work will with ReLU"
      ],
      "metadata": {
        "id": "4gChWL3sznuD"
      }
    },
    {
      "cell_type": "code",
      "source": [
        "def initialize_parameters(layers_dims):\n",
        "\n",
        "    Layers = len(layers_dims)\n",
        "\n",
        "    parameters = {}\n",
        "\n",
        "    np.random.seed(15)\n",
        "\n",
        "    for i in range(1,Layers):\n",
        "\n",
        "        parameters['W' + str(i)] = np.random.randn(layers_dims[i], layers_dims[i-1]) * np.sqrt(2. / layers_dims[i-1])\n",
        "\n",
        "        parameters['b' + str(i)] = np.zeros((layers_dims[i], 1))\n",
        "\n",
        "    return parameters"
      ],
      "metadata": {
        "id": "6-Q2EnoGzs_s"
      },
      "execution_count": 26,
      "outputs": []
    },
    {
      "cell_type": "markdown",
      "source": [
        "**Feed Forward Neural Network**\n",
        "Dynamic where you can use any number of hidden layer"
      ],
      "metadata": {
        "id": "F57-WyRlzxsg"
      }
    },
    {
      "cell_type": "code",
      "source": [
        "def forward_propagation(X, parameters, activation):\n",
        "    # LINEAR -> Tanh -> LINEAR -> Tanh -> LINEAR -> SIGMOID\n",
        "\n",
        "    cache = {}\n",
        "    L = len(parameters) // 2\n",
        "    cache['A0'] = X\n",
        "    for i in range(1, L):\n",
        "        cache['Z' + str(i)] = np.dot(parameters['W' + str(i)],cache['A' + str(i-1)]) + parameters['b' + str(i)]\n",
        "        if activation.lower() == 'relu':\n",
        "            cache['A' + str(i)] = relu(cache['Z' + str(i)])\n",
        "        else:\n",
        "            cache['A' + str(i)] = tanh(cache['Z' + str(i)])\n",
        "\n",
        "    cache['Z' + str(L)] = np.dot(parameters['W' + str(L)],cache['A' + str(L-1)]) + parameters['b' + str(L)]\n",
        "\n",
        "    if cache['Z' + str(L)].shape[0] == 1:\n",
        "        cache['A' + str(L)] = sigmoid(cache['Z' + str(L)])\n",
        "    else:\n",
        "        cache['A' + str(L)] = softmax(cache['Z' + str(L)])\n",
        "\n",
        "    return cache['A' + str(L)], cache"
      ],
      "metadata": {
        "id": "9k2U0bAwz1U7"
      },
      "execution_count": 27,
      "outputs": []
    },
    {
      "cell_type": "code",
      "source": [
        "def compute_cost(AL, Y, parameters, lambd):\n",
        "\n",
        "    m = Y.shape[1]\n",
        "    L = len(parameters) // 2\n",
        "    if Y.shape[0] == 1:\n",
        "        cost = (1./m) * (-np.dot(Y,np.log(AL).T) - np.dot(1-Y, np.log(1-AL).T))\n",
        "    else:\n",
        "        cost = -(1./m) * np.sum(Y * np.log(AL))\n",
        "\n",
        "    cost = np.squeeze(cost)\n",
        "\n",
        "    L2 = 0\n",
        "    for i in range(1,L):\n",
        "        L2 += np.sum(np.square(parameters[\"W\" + str(i)]))\n",
        "    L2 *= lambd/(2*m)\n",
        "\n",
        "    cost = cost + L2\n",
        "    return cost"
      ],
      "metadata": {
        "id": "ucUAeVvnz62Y"
      },
      "execution_count": 28,
      "outputs": []
    },
    {
      "cell_type": "markdown",
      "source": [
        "**Feed Backward Neural Network**"
      ],
      "metadata": {
        "id": "hxD0f2cuz-v3"
      }
    },
    {
      "cell_type": "code",
      "source": [
        "def backward_propagation(AL, Y, parameters, cache, lambd, activation):\n",
        "    grads = {}\n",
        "    L = len(parameters)//2\n",
        "    m = AL.shape[1]\n",
        "\n",
        "    grads[\"dZ\" + str(L)] = AL - Y\n",
        "    grads[\"dW\" + str(L)] = 1./m * np.dot(grads[\"dZ\" + str(L)],cache['A' + str(L-1)].T) + (lambd/m) * parameters['W'+str(L)]\n",
        "    grads[\"db\" + str(L)] = 1./m * np.sum(grads[\"dZ\" + str(L)], axis = 1, keepdims = True)\n",
        "\n",
        "    for l in reversed(range(1, L)):\n",
        "        if activation == 'relu':\n",
        "            grads[\"dZ\" + str(l)] = np.dot(parameters['W' + str(l+1)].T,grads[\"dZ\" + str(l+1)])*derivative_relu(cache['A' + str(l)])\n",
        "        else:\n",
        "            grads[\"dZ\" + str(l)] = np.dot(parameters['W' + str(l+1)].T,grads[\"dZ\" + str(l+1)])*derivative_tanh(cache['A' + str(l)])\n",
        "\n",
        "        grads[\"dW\" + str(l)] = 1./m * np.dot(grads[\"dZ\" + str(l)],cache['A' + str(l-1)].T) + (lambd/m) * parameters['W'+str(l)]\n",
        "        grads[\"db\" + str(l)] = 1./m * np.sum(grads[\"dZ\" + str(l)], axis = 1, keepdims = True)\n",
        "\n",
        "\n",
        "    return grads"
      ],
      "metadata": {
        "id": "Y25w0MXy0G8h"
      },
      "execution_count": 29,
      "outputs": []
    },
    {
      "cell_type": "markdown",
      "source": [
        "**Mini-Batch Gradient descent**\n",
        "Let's learn how to build mini-batches from the training set (X, Y).\n",
        "\n",
        "There are two steps:\n",
        "\n",
        "**Shuffle**: Create a shuffled version of the training set (X, Y) as shown below. Each column of X and Y represents a training example. Note that the random shuffling is done synchronously between X and Y. Such that after the shuffling the  \n",
        "i\n",
        "t\n",
        "h\n",
        "  column of X is the example corresponding to the  \n",
        "i\n",
        "t\n",
        "h\n",
        "  label in Y. The shuffling step ensures that examples will be split randomly into different mini-batches.\n",
        "\n",
        "**Partition**: Partition the shuffled (X, Y) into mini-batches of size mini_batch_size (here 64). Note that the number of training examples is not always divisible by mini_batch_size. The last mini batch might be smaller, but you don't need to worry about this, we will handel it."
      ],
      "metadata": {
        "id": "zFdtCmFB0O22"
      }
    },
    {
      "cell_type": "code",
      "source": [
        "def random_mini_batches(X_ff, Y_ff, mini_batch_size = 64, seed = 0):\n",
        "    \"\"\"\n",
        "    Creates a list of random minibatches from (X, Y)s\n",
        "\n",
        "    Arguments:\n",
        "    X -- input data, of shape (input size, number of examples)\n",
        "    Y -- true \"label\" vector (1 for blue dot / 0 for red dot), of shape (1, number of examples)\n",
        "    mini_batch_size -- size of the mini-batches, integer\n",
        "\n",
        "    Returns:\n",
        "    mini_batches -- list of synchronous (mini_batch_X, mini_batch_Y)\n",
        "    \"\"\"\n",
        "\n",
        "    np.random.seed(seed)            # To make your \"random\" minibatches the same as ours\n",
        "    m = X_ff.shape[1]                  # number of training examples\n",
        "    mini_batches = []\n",
        "\n",
        "    # Step 1: Shuffle (X, Y)\n",
        "    permutation = list(np.random.permutation(m))\n",
        "    shuffled_X = X_ff[:, permutation]\n",
        "    shuffled_Y = Y_ff[:, permutation].reshape((Y_ff.shape[0],m))\n",
        "\n",
        "    # Step 2.1: Partition (shuffled_X, shuffled_Y). Minus the end case.\n",
        "    num_complete_minibatches = math.floor(m/mini_batch_size) # number of mini batches of size mini_batch_size in your partitionning\n",
        "    for k in range(0, num_complete_minibatches):\n",
        "\n",
        "        mini_batch_X = shuffled_X[:, k*mini_batch_size : (k+1)*mini_batch_size]\n",
        "        mini_batch_Y = shuffled_Y[:, k*mini_batch_size : (k+1)*mini_batch_size]\n",
        "\n",
        "        mini_batch = (mini_batch_X, mini_batch_Y)\n",
        "        mini_batches.append(mini_batch)\n",
        "\n",
        "    # Step 2.2: Handling the end case (last mini-batch < mini_batch_size)\n",
        "    if m % mini_batch_size != 0:\n",
        "\n",
        "        mini_batch_X = shuffled_X[:, int(m/mini_batch_size)*mini_batch_size : ]\n",
        "        mini_batch_Y = shuffled_Y[:, int(m/mini_batch_size)*mini_batch_size : ]\n",
        "\n",
        "        mini_batch = (mini_batch_X, mini_batch_Y)\n",
        "        mini_batches.append(mini_batch)\n",
        "\n",
        "    return mini_batches"
      ],
      "metadata": {
        "id": "uOqLJ4zc0ULx"
      },
      "execution_count": 30,
      "outputs": []
    },
    {
      "cell_type": "markdown",
      "source": [
        "Adam\n",
        "Adam is one of the most effective optimization algorithms for training neural networks. It combines ideas from RMSProp and Momentum.\n",
        "\n",
        "How does Adam work?\n",
        "\n",
        "It calculates an exponentially weighted average of past gradients, and stores it in variables  \n",
        "\n",
        "\n"
      ],
      "metadata": {
        "id": "g54USv-U0ao_"
      }
    },
    {
      "cell_type": "code",
      "source": [
        "def initialize_adam(parameters) :\n",
        "    \"\"\"\n",
        "    Initializes v and s as two python dictionaries with:\n",
        "                - keys: \"dW1\", \"db1\", ..., \"dWL\", \"dbL\"\n",
        "                - values: numpy arrays of zeros of the same shape as the corresponding gradients/parameters.\n",
        "\n",
        "    Arguments:\n",
        "    parameters -- python dictionary containing your parameters.\n",
        "                    parameters[\"W\" + str(l)] = Wl\n",
        "                    parameters[\"b\" + str(l)] = bl\n",
        "\n",
        "    Returns:\n",
        "    v -- python dictionary that will contain the exponentially weighted average of the gradient.\n",
        "                    v[\"dW\" + str(l)] = ...\n",
        "                    v[\"db\" + str(l)] = ...\n",
        "    s -- python dictionary that will contain the exponentially weighted average of the squared gradient.\n",
        "                    s[\"dW\" + str(l)] = ...\n",
        "                    s[\"db\" + str(l)] = ...\n",
        "\n",
        "    \"\"\"\n",
        "\n",
        "    L = len(parameters) // 2 # number of layers in the neural networks\n",
        "    v = {}\n",
        "    s = {}\n",
        "\n",
        "    # Initialize v, s. Input: \"parameters\". Outputs: \"v, s\".\n",
        "    for l in range(L):\n",
        "        v[\"dW\" + str(l+1)] = np.zeros((parameters[\"W\" + str(l+1)].shape[0], parameters[\"W\" + str(l+1)].shape[1]))\n",
        "        v[\"db\" + str(l+1)] = np.zeros((parameters[\"b\" + str(l+1)].shape[0], parameters[\"b\" + str(l+1)].shape[1]))\n",
        "        s[\"dW\" + str(l+1)] = np.zeros((parameters[\"W\" + str(l+1)].shape[0], parameters[\"W\" + str(l+1)].shape[1]))\n",
        "        s[\"db\" + str(l+1)] = np.zeros((parameters[\"b\" + str(l+1)].shape[0], parameters[\"b\" + str(l+1)].shape[1]))\n",
        "\n",
        "    return v, s\n",
        "\n",
        "\n",
        "\n",
        "def update_parameters_with_adam(parameters, grads, v, s, t, learning_rate = 0.01,\n",
        "                                beta1 = 0.9, beta2 = 0.999,  epsilon = 1e-8):\n",
        "    \"\"\"\n",
        "    Update parameters using Adam\n",
        "\n",
        "    Arguments:\n",
        "    parameters -- python dictionary containing your parameters:\n",
        "                    parameters['W' + str(l)] = Wl\n",
        "                    parameters['b' + str(l)] = bl\n",
        "    grads -- python dictionary containing your gradients for each parameters:\n",
        "                    grads['dW' + str(l)] = dWl\n",
        "                    grads['db' + str(l)] = dbl\n",
        "    v -- Adam variable, moving average of the first gradient, python dictionary\n",
        "    s -- Adam variable, moving average of the squared gradient, python dictionary\n",
        "    learning_rate -- the learning rate, scalar.\n",
        "    beta1 -- Exponential decay hyperparameter for the first moment estimates\n",
        "    beta2 -- Exponential decay hyperparameter for the second moment estimates\n",
        "    epsilon -- hyperparameter preventing division by zero in Adam updates\n",
        "\n",
        "    Returns:\n",
        "    parameters -- python dictionary containing your updated parameters\n",
        "    v -- Adam variable, moving average of the first gradient, python dictionary\n",
        "    s -- Adam variable, moving average of the squared gradient, python dictionary\n",
        "    \"\"\"\n",
        "\n",
        "    L = len(parameters) // 2                 # number of layers in the neural networks\n",
        "    v_corrected = {}                         # Initializing first moment estimate, python dictionary\n",
        "    s_corrected = {}                         # Initializing second moment estimate, python dictionary\n",
        "\n",
        "    # Perform Adam update on all parameters\n",
        "    for l in range(L):\n",
        "        # Moving average of the gradients. Inputs: \"v, grads, beta1\". Output: \"v\".\n",
        "        v[\"dW\" + str(l+1)] = beta1*v[\"dW\" + str(l+1)] + (1 - beta1)*grads['dW' + str(l+1)]\n",
        "        v[\"db\" + str(l+1)] = beta1*v[\"db\" + str(l+1)] + (1 - beta1)*grads['db' + str(l+1)]\n",
        "\n",
        "        # Compute bias-corrected first moment estimate. Inputs: \"v, beta1, t\". Output: \"v_corrected\".\n",
        "        v_corrected[\"dW\" + str(l+1)] = v[\"dW\" + str(l+1)]/(1 - beta1**t)\n",
        "        v_corrected[\"db\" + str(l+1)] = v[\"db\" + str(l+1)]/(1 - beta1**t)\n",
        "\n",
        "        # Moving average of the squared gradients. Inputs: \"s, grads, beta2\". Output: \"s\".\n",
        "        s[\"dW\" + str(l+1)] = beta2*s[\"dW\" + str(l+1)] + (1 - beta2)*np.square(grads['dW' + str(l+1)])\n",
        "        s[\"db\" + str(l+1)] = beta2*s[\"db\" + str(l+1)] + (1 - beta2)*np.square(grads['db' + str(l+1)])\n",
        "\n",
        "        # Compute bias-corrected second raw moment estimate. Inputs: \"s, beta2, t\". Output: \"s_corrected\".\n",
        "        s_corrected[\"dW\" + str(l+1)] = s[\"dW\" + str(l+1)]/(1 - beta2**t)\n",
        "        s_corrected[\"db\" + str(l+1)] = s[\"db\" + str(l+1)]/(1 - beta2**t)\n",
        "\n",
        "        # Update parameters. Inputs: \"parameters, learning_rate, v_corrected, s_corrected, epsilon\". Output: \"parameters\".\n",
        "        parameters[\"W\" + str(l+1)] = parameters[\"W\" + str(l+1)] - learning_rate*v_corrected[\"dW\" + str(l+1)]/(np.sqrt(s_corrected[\"dW\" + str(l+1)])+epsilon)\n",
        "        parameters[\"b\" + str(l+1)] = parameters[\"b\" + str(l+1)] - learning_rate*v_corrected[\"db\" + str(l+1)]/(np.sqrt(s_corrected[\"db\" + str(l+1)])+epsilon)\n",
        "\n",
        "    return parameters, v, s"
      ],
      "metadata": {
        "id": "sEu3jtUQ0oLw"
      },
      "execution_count": 31,
      "outputs": []
    },
    {
      "cell_type": "code",
      "source": [
        "def predict(X, y, parameters, activation):\n",
        "\n",
        "    m = X.shape[1]\n",
        "    y_pred, caches = forward_propagation(X, parameters, activation)\n",
        "\n",
        "    if y.shape[0] == 1:\n",
        "        y_pred = np.array(y_pred > 0.5, dtype = 'float')\n",
        "    else:\n",
        "        y = np.argmax(y, 0)\n",
        "        y_pred = np.argmax(y_pred, 0)\n",
        "\n",
        "    return np.round(np.sum((y_pred == y)/m), 2)"
      ],
      "metadata": {
        "id": "4aY2U2V-0ey6"
      },
      "execution_count": 32,
      "outputs": []
    },
    {
      "cell_type": "markdown",
      "source": [
        "**BIG MODEL**"
      ],
      "metadata": {
        "id": "j8NmxjjB0xwH"
      }
    },
    {
      "cell_type": "code",
      "source": [
        "def model(X_ff, Y_ff, X_tt, Y_tt, layers_dims, learning_rate = 0.3, num_epochs = 30000, lambd = 0.01, mini_batch_size = 64, beta = 0.9,\n",
        "          beta1 = 0.9, beta2 = 0.999,  epsilon = 1e-8, activation = 'relu', print_cost = True):\n",
        "    \"\"\"\n",
        "        3-layer neural network model which can be run in different optimizer modes.\n",
        "\n",
        "        Arguments:\n",
        "        X -- input data, of shape (2, number of examples)\n",
        "        Y -- true \"label\" vector (1 for blue dot / 0 for red dot), of shape (1, number of examples)\n",
        "        layers_dims -- python list, containing the size of each layer\n",
        "        learning_rate -- the learning rate, scalar.\n",
        "        num_epochs -- number of epochs\n",
        "        print_cost -- True to print the cost every 1000 epochs\n",
        "\n",
        "        Returns:\n",
        "        parameters -- python dictionary containing your updated parameters\n",
        "        \"\"\"\n",
        "\n",
        "    grads = {}\n",
        "    costs = []                            # to keep track of the cost\n",
        "    seed = 0\n",
        "    t = 0\n",
        "    m = X_ff.shape[1]                        # number of examples\n",
        "\n",
        "    L = len(layers_dims)                  # number of layers in the neural networks\n",
        "\n",
        "    print(\"\\nThe number of training examples is : %i\\n\" %m)\n",
        "    print(\"The mini batch size : %i\\n\" %mini_batch_size)\n",
        "\n",
        "    # Initialize parameters dictionary.\n",
        "    parameters = initialize_parameters(layers_dims)\n",
        "\n",
        "    v,s = initialize_adam(parameters)\n",
        "\n",
        "    # Loop (gradient descent)\n",
        "\n",
        "    for i in range(num_epochs):\n",
        "\n",
        "        cost_total = 0\n",
        "\n",
        "        # Define the random minibatches. We increment the seed to reshuffle differently the dataset after each epoch\n",
        "        seed = seed + 1\n",
        "        minibatches = random_mini_batches(X_ff, Y_ff, mini_batch_size, seed)\n",
        "\n",
        "        for minibatch in minibatches:\n",
        "\n",
        "            # Select a minibatch\n",
        "            (minibatch_X, minibatch_Y) = minibatch\n",
        "\n",
        "\n",
        "            # Forward propagation: LINEAR -> RELU -> LINEAR -> RELU -> LINEAR -> SIGMOID.\n",
        "            AL, cache = forward_propagation(minibatch_X, parameters, activation)\n",
        "\n",
        "            # compute the cost\n",
        "            cost_total += compute_cost(AL, minibatch_Y, parameters=parameters, lambd=lambd)\n",
        "\n",
        "            # Backward propagation.\n",
        "            grads = backward_propagation(AL, minibatch_Y, parameters, cache, lambd, activation)\n",
        "\n",
        "            # Update parameters.\n",
        "            t = t + 1 # Adam counter\n",
        "            parameters, v, s = update_parameters_with_adam(parameters, grads, v, s,\n",
        "                                                               t, learning_rate, beta1, beta2,  epsilon)\n",
        "            # parameters = update_parameters(parameters, grads,learning_rate=learning_rate)\n",
        "\n",
        "\n",
        "        # Print the cost every 1000 epoch\n",
        "        if print_cost and i % 2 == 0:\n",
        "            # learning_rate *= 1 / (1+0.96*i)\n",
        "            print(\"\\niter:{} \\t cost: {} \\t train_acc:{} \\t dev_acc:{}\".format(i, np.round(cost_total, 2), predict(X_ff, Y_ff, parameters, activation), predict(X_tt, Y_tt, parameters, activation)))\n",
        "        if print_cost and i % 1 == 0:\n",
        "            costs.append(cost_total)\n",
        "        if i % 1 == 0:\n",
        "            print('=', end='')\n",
        "    # plot the cost\n",
        "    plt.plot(costs)\n",
        "    plt.ylabel('cost')\n",
        "    plt.xlabel('epochs (per 100)')\n",
        "    plt.title(\"Learning rate =\" + str(learning_rate))\n",
        "    plt.show()\n",
        "\n",
        "    return parameters, t, seed"
      ],
      "metadata": {
        "id": "Ltpuklpk01UQ"
      },
      "execution_count": 33,
      "outputs": []
    },
    {
      "cell_type": "code",
      "source": [
        "import tensorflow as tf"
      ],
      "metadata": {
        "id": "QjicZb0109QP"
      },
      "execution_count": 34,
      "outputs": []
    },
    {
      "cell_type": "code",
      "source": [
        "img_rows, img_cols = 28, 28\n",
        "num_classes = 10\n",
        "\n",
        "def data_prep(raw):\n",
        "    out_y = tf.keras.utils.to_categorical(raw.label, num_classes)\n",
        "\n",
        "    num_images = raw.shape[0]\n",
        "    x_as_array = raw.values[:,1:]\n",
        "    x_shaped_array = x_as_array.reshape(num_images, img_rows * img_cols)\n",
        "    out_x = np.multiply(x_shaped_array, 1.0) / 255.0\n",
        "    return out_x, out_y\n",
        "\n",
        "train_file = \"/kaggle/input/digit-recognizer/train.csv\"\n",
        "raw_data = pd.read_csv(\"/content/train.csv\")\n",
        "\n",
        "x, y = data_prep(raw_data)"
      ],
      "metadata": {
        "id": "0o_9vyXT4qxv"
      },
      "execution_count": 38,
      "outputs": []
    },
    {
      "cell_type": "code",
      "source": [
        "test_file = \"/kaggle/input/digit-recognizer/test.csv\"\n",
        "raw_data_test = pd.read_csv(\"/content/test.csv\")\n",
        "\n",
        "num_images = raw_data_test.shape[0]\n",
        "x_as_array = raw_data_test.values[:,:]\n",
        "x_shaped_array = x_as_array.reshape(num_images, img_rows * img_cols)\n",
        "x_test = np.multiply(x_shaped_array, 1.0) / 255.0"
      ],
      "metadata": {
        "id": "g90jizqb5oZD"
      },
      "execution_count": 39,
      "outputs": []
    },
    {
      "cell_type": "code",
      "source": [
        "x_test = x_test.T\n",
        "x_test.shape"
      ],
      "metadata": {
        "colab": {
          "base_uri": "https://localhost:8080/"
        },
        "id": "hBEbUrDQ52Di",
        "outputId": "d99eb0d1-7aa0-4472-c3cd-c3915403a54b"
      },
      "execution_count": 40,
      "outputs": [
        {
          "output_type": "execute_result",
          "data": {
            "text/plain": [
              "(784, 28000)"
            ]
          },
          "metadata": {},
          "execution_count": 40
        }
      ]
    },
    {
      "cell_type": "code",
      "source": [
        "from sklearn.model_selection import train_test_split\n",
        "X_train, X_test, y_train, y_test = train_test_split(x, y, test_size=0.1, random_state=42)"
      ],
      "metadata": {
        "id": "ISt2-8ut55bG"
      },
      "execution_count": 41,
      "outputs": []
    },
    {
      "cell_type": "code",
      "source": [
        "X_train = X_train.T\n",
        "X_test = X_test.T\n",
        "y_train = y_train.T\n",
        "y_test = y_test.T"
      ],
      "metadata": {
        "id": "Urbqa3Qe59pZ"
      },
      "execution_count": 42,
      "outputs": []
    },
    {
      "cell_type": "code",
      "source": [
        "X_train.shape"
      ],
      "metadata": {
        "colab": {
          "base_uri": "https://localhost:8080/"
        },
        "id": "1TLKEg906AXe",
        "outputId": "71fd9d45-c488-403b-8a29-7024712e653a"
      },
      "execution_count": 43,
      "outputs": [
        {
          "output_type": "execute_result",
          "data": {
            "text/plain": [
              "(784, 37800)"
            ]
          },
          "metadata": {},
          "execution_count": 43
        }
      ]
    },
    {
      "cell_type": "code",
      "source": [
        "layer_dims = [X_train.shape[0], 255, 128, 64, 32, 16,y_train.shape[0]]\n",
        "parameters, t, seed = model(\n",
        "                    X_train, y_train, X_test, y_test,\n",
        "                    learning_rate=0.007, lambd=0.01,\n",
        "                    num_epochs=100, mini_batch_size = 8192,\n",
        "                    beta1 = 0.9, beta2 = 0.999, epsilon = 1e-8,\n",
        "                    activation = 'relu',\n",
        "                    layers_dims = layer_dims\n",
        "                    )"
      ],
      "metadata": {
        "colab": {
          "base_uri": "https://localhost:8080/",
          "height": 1000
        },
        "id": "-T6ZHwgT6Ddi",
        "outputId": "43b5b7df-4477-49ed-bfc0-7f12ec51f09b"
      },
      "execution_count": 44,
      "outputs": [
        {
          "output_type": "stream",
          "name": "stdout",
          "text": [
            "\n",
            "The number of training examples is : 37800\n",
            "\n",
            "The mini batch size : 8192\n",
            "\n",
            "\n",
            "iter:0 \t cost: 10.48 \t train_acc:0.43 \t dev_acc:0.43\n",
            "==\n",
            "iter:2 \t cost: 4.08 \t train_acc:0.78 \t dev_acc:0.77\n",
            "==\n",
            "iter:4 \t cost: 1.94 \t train_acc:0.91 \t dev_acc:0.91\n",
            "==\n",
            "iter:6 \t cost: 1.18 \t train_acc:0.94 \t dev_acc:0.93\n",
            "==\n",
            "iter:8 \t cost: 0.84 \t train_acc:0.96 \t dev_acc:0.95\n",
            "==\n",
            "iter:10 \t cost: 0.62 \t train_acc:0.97 \t dev_acc:0.95\n",
            "==\n",
            "iter:12 \t cost: 0.49 \t train_acc:0.97 \t dev_acc:0.96\n",
            "==\n",
            "iter:14 \t cost: 0.4 \t train_acc:0.98 \t dev_acc:0.96\n",
            "==\n",
            "iter:16 \t cost: 0.33 \t train_acc:0.98 \t dev_acc:0.96\n",
            "==\n",
            "iter:18 \t cost: 0.27 \t train_acc:0.99 \t dev_acc:0.96\n",
            "==\n",
            "iter:20 \t cost: 0.21 \t train_acc:0.99 \t dev_acc:0.97\n",
            "==\n",
            "iter:22 \t cost: 0.16 \t train_acc:0.99 \t dev_acc:0.97\n",
            "==\n",
            "iter:24 \t cost: 0.13 \t train_acc:0.99 \t dev_acc:0.97\n",
            "==\n",
            "iter:26 \t cost: 0.1 \t train_acc:1.0 \t dev_acc:0.97\n",
            "==\n",
            "iter:28 \t cost: 0.08 \t train_acc:1.0 \t dev_acc:0.97\n",
            "==\n",
            "iter:30 \t cost: 0.06 \t train_acc:1.0 \t dev_acc:0.97\n",
            "==\n",
            "iter:32 \t cost: 0.05 \t train_acc:1.0 \t dev_acc:0.97\n",
            "==\n",
            "iter:34 \t cost: 0.04 \t train_acc:1.0 \t dev_acc:0.97\n",
            "==\n",
            "iter:36 \t cost: 0.03 \t train_acc:1.0 \t dev_acc:0.97\n",
            "==\n",
            "iter:38 \t cost: 0.02 \t train_acc:1.0 \t dev_acc:0.97\n",
            "==\n",
            "iter:40 \t cost: 0.02 \t train_acc:1.0 \t dev_acc:0.97\n",
            "==\n",
            "iter:42 \t cost: 0.02 \t train_acc:1.0 \t dev_acc:0.97\n",
            "==\n",
            "iter:44 \t cost: 0.02 \t train_acc:1.0 \t dev_acc:0.97\n",
            "==\n",
            "iter:46 \t cost: 0.01 \t train_acc:1.0 \t dev_acc:0.97\n",
            "==\n",
            "iter:48 \t cost: 0.01 \t train_acc:1.0 \t dev_acc:0.97\n",
            "==\n",
            "iter:50 \t cost: 0.01 \t train_acc:1.0 \t dev_acc:0.97\n",
            "==\n",
            "iter:52 \t cost: 0.01 \t train_acc:1.0 \t dev_acc:0.97\n",
            "==\n",
            "iter:54 \t cost: 0.01 \t train_acc:1.0 \t dev_acc:0.97\n",
            "==\n",
            "iter:56 \t cost: 0.01 \t train_acc:1.0 \t dev_acc:0.97\n",
            "==\n",
            "iter:58 \t cost: 0.01 \t train_acc:1.0 \t dev_acc:0.97\n",
            "==\n",
            "iter:60 \t cost: 0.01 \t train_acc:1.0 \t dev_acc:0.97\n",
            "==\n",
            "iter:62 \t cost: 0.01 \t train_acc:1.0 \t dev_acc:0.97\n",
            "==\n",
            "iter:64 \t cost: 0.01 \t train_acc:1.0 \t dev_acc:0.97\n",
            "==\n",
            "iter:66 \t cost: 0.01 \t train_acc:1.0 \t dev_acc:0.97\n",
            "==\n",
            "iter:68 \t cost: 0.01 \t train_acc:1.0 \t dev_acc:0.97\n",
            "==\n",
            "iter:70 \t cost: 0.01 \t train_acc:1.0 \t dev_acc:0.97\n",
            "==\n",
            "iter:72 \t cost: 0.01 \t train_acc:1.0 \t dev_acc:0.97\n",
            "==\n",
            "iter:74 \t cost: 0.01 \t train_acc:1.0 \t dev_acc:0.97\n",
            "==\n",
            "iter:76 \t cost: 0.01 \t train_acc:1.0 \t dev_acc:0.97\n",
            "==\n",
            "iter:78 \t cost: 0.01 \t train_acc:1.0 \t dev_acc:0.97\n",
            "==\n",
            "iter:80 \t cost: 0.01 \t train_acc:1.0 \t dev_acc:0.97\n",
            "==\n",
            "iter:82 \t cost: 0.01 \t train_acc:1.0 \t dev_acc:0.97\n",
            "==\n",
            "iter:84 \t cost: 0.01 \t train_acc:1.0 \t dev_acc:0.97\n",
            "==\n",
            "iter:86 \t cost: 0.01 \t train_acc:1.0 \t dev_acc:0.97\n",
            "==\n",
            "iter:88 \t cost: 0.01 \t train_acc:1.0 \t dev_acc:0.97\n",
            "==\n",
            "iter:90 \t cost: 0.01 \t train_acc:1.0 \t dev_acc:0.97\n",
            "==\n",
            "iter:92 \t cost: 0.01 \t train_acc:1.0 \t dev_acc:0.97\n",
            "==\n",
            "iter:94 \t cost: 0.01 \t train_acc:1.0 \t dev_acc:0.97\n",
            "==\n",
            "iter:96 \t cost: 0.01 \t train_acc:1.0 \t dev_acc:0.97\n",
            "==\n",
            "iter:98 \t cost: 0.01 \t train_acc:1.0 \t dev_acc:0.97\n",
            "=="
          ]
        },
        {
          "output_type": "display_data",
          "data": {
            "text/plain": [
              "<Figure size 640x480 with 1 Axes>"
            ],
            "image/png": "[encoded data removed]"
          },
          "metadata": {}
        }
      ]
    },
    {
      "cell_type": "code",
      "source": [
        "m = x_test.shape[1]\n",
        "y_pred, caches = forward_propagation(x_test, parameters, 'relu')\n",
        "\n",
        "y_pred = np.argmax(y_pred, 0)"
      ],
      "metadata": {
        "id": "v03VEX417idv"
      },
      "execution_count": 45,
      "outputs": []
    },
    {
      "cell_type": "code",
      "source": [
        "y_pred"
      ],
      "metadata": {
        "colab": {
          "base_uri": "https://localhost:8080/"
        },
        "id": "-qDCdePw7mHH",
        "outputId": "5b66e8b7-621e-42ad-bf55-c391949f76b1"
      },
      "execution_count": 46,
      "outputs": [
        {
          "output_type": "execute_result",
          "data": {
            "text/plain": [
              "array([2, 0, 9, ..., 3, 9, 2])"
            ]
          },
          "metadata": {},
          "execution_count": 46
        }
      ]
    },
    {
      "cell_type": "code",
      "source": [
        "def test_prediction(index, parameters):\n",
        "    current_image = x_test[:, index, None]\n",
        "    y_pred, caches = forward_propagation(current_image, parameters, 'relu')\n",
        "    # label = np.argmax(y_test[:,index, None])\n",
        "    y_pred = np.argmax(y_pred)\n",
        "    print(\"Prediction: \", y_pred)\n",
        "    # print(\"Label: \", label)\n",
        "\n",
        "    current_image = current_image.reshape((28, 28)) * 255\n",
        "    plt.gray()\n",
        "    plt.imshow(current_image, interpolation='nearest')\n",
        "    plt.show()"
      ],
      "metadata": {
        "id": "Tb2jEHs17o1u"
      },
      "execution_count": 47,
      "outputs": []
    },
    {
      "cell_type": "code",
      "source": [
        "i = 1\n",
        "test_prediction(i * 5, parameters)\n",
        "test_prediction(i * 5+1, parameters)\n",
        "test_prediction(i * 5+2, parameters)\n",
        "test_prediction(i * 5+3, parameters)\n",
        "test_prediction(i * 5+4, parameters)\n",
        "test_prediction(i * 5+5, parameters)"
      ],
      "metadata": {
        "colab": {
          "base_uri": "https://localhost:8080/",
          "height": 1000
        },
        "id": "Hnmj7S0f7r-F",
        "outputId": "0dac486e-4085-47a7-c960-3c5a5f718ba3"
      },
      "execution_count": 48,
      "outputs": [
        {
          "output_type": "stream",
          "name": "stdout",
          "text": [
            "Prediction:  7\n"
          ]
        },
        {
          "output_type": "display_data",
          "data": {
            "text/plain": [
              "<Figure size 640x480 with 1 Axes>"
            ],
            "image/png": "[encoded data removed]"
          },
          "metadata": {}
        },
        {
          "output_type": "stream",
          "name": "stdout",
          "text": [
            "Prediction:  0\n"
          ]
        },
        {
          "output_type": "display_data",
          "data": {
            "text/plain": [
              "<Figure size 640x480 with 1 Axes>"
            ],
            "image/png": "[encoded data removed]"
          },
          "metadata": {}
        },
        {
          "output_type": "stream",
          "name": "stdout",
          "text": [
            "Prediction:  3\n"
          ]
        },
        {
          "output_type": "display_data",
          "data": {
            "text/plain": [
              "<Figure size 640x480 with 1 Axes>"
            ],
            "image/png": "[encoded data removed]"
          },
          "metadata": {}
        },
        {
          "output_type": "stream",
          "name": "stdout",
          "text": [
            "Prediction:  0\n"
          ]
        },
        {
          "output_type": "display_data",
          "data": {
            "text/plain": [
              "<Figure size 640x480 with 1 Axes>"
            ],
            "image/png": "[encoded data removed]"
          },
          "metadata": {}
        },
        {
          "output_type": "stream",
          "name": "stdout",
          "text": [
            "Prediction:  3\n"
          ]
        },
        {
          "output_type": "display_data",
          "data": {
            "text/plain": [
              "<Figure size 640x480 with 1 Axes>"
            ],
            "image/png": "[encoded data removed]"
          },
          "metadata": {}
        },
        {
          "output_type": "stream",
          "name": "stdout",
          "text": [
            "Prediction:  5\n"
          ]
        },
        {
          "output_type": "display_data",
          "data": {
            "text/plain": [
              "<Figure size 640x480 with 1 Axes>"
            ],
            "image/png": "[encoded data removed]"
          },
          "metadata": {}
        }
      ]
    },
    {
      "cell_type": "code",
      "source": [
        "sample = pd.read_csv('/content/sample_submission.csv')\n",
        "w = sample['ImageId']"
      ],
      "metadata": {
        "id": "LTK44zEQ83Gm"
      },
      "execution_count": 52,
      "outputs": []
    },
    {
      "cell_type": "code",
      "source": [
        "sample['Label'] = y_pred"
      ],
      "metadata": {
        "id": "rIX1BYrI9ELH"
      },
      "execution_count": 53,
      "outputs": []
    },
    {
      "cell_type": "code",
      "source": [
        "sample.head()"
      ],
      "metadata": {
        "colab": {
          "base_uri": "https://localhost:8080/",
          "height": 206
        },
        "id": "WuugOIfv9lBG",
        "outputId": "dffa2256-cf68-4c98-94f9-c97824df1c75"
      },
      "execution_count": 54,
      "outputs": [
        {
          "output_type": "execute_result",
          "data": {
            "text/plain": [
              "   ImageId  Label\n",
              "0        1      2\n",
              "1        2      0\n",
              "2        3      9\n",
              "3        4      9\n",
              "4        5      3"
            ],
            "text/html": [
              "\n",
              "  <div id=\"df-196ed929-8a2f-4b27-abf2-04b16fc37fd8\" class=\"colab-df-container\">\n",
              "    <div>\n",
              "<style scoped>\n",
              "    .dataframe tbody tr th:only-of-type {\n",
              "        vertical-align: middle;\n",
              "    }\n",
              "\n",
              "    .dataframe tbody tr th {\n",
              "        vertical-align: top;\n",
              "    }\n",
              "\n",
              "    .dataframe thead th {\n",
              "        text-align: right;\n",
              "    }\n",
              "</style>\n",
              "<table border=\"1\" class=\"dataframe\">\n",
              "  <thead>\n",
              "    <tr style=\"text-align: right;\">\n",
              "      <th></th>\n",
              "      <th>ImageId</th>\n",
              "      <th>Label</th>\n",
              "    </tr>\n",
              "  </thead>\n",
              "  <tbody>\n",
              "    <tr>\n",
              "      <th>0</th>\n",
              "      <td>1</td>\n",
              "      <td>2</td>\n",
              "    </tr>\n",
              "    <tr>\n",
              "      <th>1</th>\n",
              "      <td>2</td>\n",
              "      <td>0</td>\n",
              "    </tr>\n",
              "    <tr>\n",
              "      <th>2</th>\n",
              "      <td>3</td>\n",
              "      <td>9</td>\n",
              "    </tr>\n",
              "    <tr>\n",
              "      <th>3</th>\n",
              "      <td>4</td>\n",
              "      <td>9</td>\n",
              "    </tr>\n",
              "    <tr>\n",
              "      <th>4</th>\n",
              "      <td>5</td>\n",
              "      <td>3</td>\n",
              "    </tr>\n",
              "  </tbody>\n",
              "</table>\n",
              "</div>\n",
              "    <div class=\"colab-df-buttons\">\n",
              "\n",
              "  <div class=\"colab-df-container\">\n",
              "    <button class=\"colab-df-convert\" onclick=\"convertToInteractive('df-196ed929-8a2f-4b27-abf2-04b16fc37fd8')\"\n",
              "            title=\"Convert this dataframe to an interactive table.\"\n",
              "            style=\"display:none;\">\n",
              "\n",
              "  <svg xmlns=\"http://www.w3.org/2000/svg\" height=\"24px\" viewBox=\"0 -960 960 960\">\n",
              "    <path d=\"M120-120v-720h720v720H120Zm60-500h600v-160H180v160Zm220 220h160v-160H400v160Zm0 220h160v-160H400v160ZM180-400h160v-160H180v160Zm440 0h160v-160H620v160ZM180-180h160v-160H180v160Zm440 0h160v-160H620v160Z\"/>\n",
              "  </svg>\n",
              "    </button>\n",
              "\n",
              "  <style>\n",
              "    .colab-df-container {\n",
              "      display:flex;\n",
              "      gap: 12px;\n",
              "    }\n",
              "\n",
              "    .colab-df-convert {\n",
              "      background-color: #E8F0FE;\n",
              "      border: none;\n",
              "      border-radius: 50%;\n",
              "      cursor: pointer;\n",
              "      display: none;\n",
              "      fill: #1967D2;\n",
              "      height: 32px;\n",
              "      padding: 0 0 0 0;\n",
              "      width: 32px;\n",
              "    }\n",
              "\n",
              "    .colab-df-convert:hover {\n",
              "      background-color: #E2EBFA;\n",
              "      box-shadow: 0px 1px 2px rgba(60, 64, 67, 0.3), 0px 1px 3px 1px rgba(60, 64, 67, 0.15);\n",
              "      fill: #174EA6;\n",
              "    }\n",
              "\n",
              "    .colab-df-buttons div {\n",
              "      margin-bottom: 4px;\n",
              "    }\n",
              "\n",
              "    [theme=dark] .colab-df-convert {\n",
              "      background-color: #3B4455;\n",
              "      fill: #D2E3FC;\n",
              "    }\n",
              "\n",
              "    [theme=dark] .colab-df-convert:hover {\n",
              "      background-color: #434B5C;\n",
              "      box-shadow: 0px 1px 3px 1px rgba(0, 0, 0, 0.15);\n",
              "      filter: drop-shadow(0px 1px 2px rgba(0, 0, 0, 0.3));\n",
              "      fill: #FFFFFF;\n",
              "    }\n",
              "  </style>\n",
              "\n",
              "    <script>\n",
              "      const buttonEl =\n",
              "        document.querySelector('#df-196ed929-8a2f-4b27-abf2-04b16fc37fd8 button.colab-df-convert');\n",
              "      buttonEl.style.display =\n",
              "        google.colab.kernel.accessAllowed ? 'block' : 'none';\n",
              "\n",
              "      async function convertToInteractive(key) {\n",
              "        const element = document.querySelector('#df-196ed929-8a2f-4b27-abf2-04b16fc37fd8');\n",
              "        const dataTable =\n",
              "          await google.colab.kernel.invokeFunction('convertToInteractive',\n",
              "                                                    [key], {});\n",
              "        if (!dataTable) return;\n",
              "\n",
              "        const docLinkHtml = 'Like what you see? Visit the ' +\n",
              "          '<a target=\"_blank\" href=https://colab.research.google.com/notebooks/data_table.ipynb>data table notebook</a>'\n",
              "          + ' to learn more about interactive tables.';\n",
              "        element.innerHTML = '';\n",
              "        dataTable['output_type'] = 'display_data';\n",
              "        await google.colab.output.renderOutput(dataTable, element);\n",
              "        const docLink = document.createElement('div');\n",
              "        docLink.innerHTML = docLinkHtml;\n",
              "        element.appendChild(docLink);\n",
              "      }\n",
              "    </script>\n",
              "  </div>\n",
              "\n",
              "\n",
              "<div id=\"df-a7dcf769-dfd8-4e72-bb34-0030d4abccfe\">\n",
              "  <button class=\"colab-df-quickchart\" onclick=\"quickchart('df-a7dcf769-dfd8-4e72-bb34-0030d4abccfe')\"\n",
              "            title=\"Suggest charts\"\n",
              "            style=\"display:none;\">\n",
              "\n",
              "<svg xmlns=\"http://www.w3.org/2000/svg\" height=\"24px\"viewBox=\"0 0 24 24\"\n",
              "     width=\"24px\">\n",
              "    <g>\n",
              "        <path d=\"M19 3H5c-1.1 0-2 .9-2 2v14c0 1.1.9 2 2 2h14c1.1 0 2-.9 2-2V5c0-1.1-.9-2-2-2zM9 17H7v-7h2v7zm4 0h-2V7h2v10zm4 0h-2v-4h2v4z\"/>\n",
              "    </g>\n",
              "</svg>\n",
              "  </button>\n",
              "\n",
              "<style>\n",
              "  .colab-df-quickchart {\n",
              "      --bg-color: #E8F0FE;\n",
              "      --fill-color: #1967D2;\n",
              "      --hover-bg-color: #E2EBFA;\n",
              "      --hover-fill-color: #174EA6;\n",
              "      --disabled-fill-color: #AAA;\n",
              "      --disabled-bg-color: #DDD;\n",
              "  }\n",
              "\n",
              "  [theme=dark] .colab-df-quickchart {\n",
              "      --bg-color: #3B4455;\n",
              "      --fill-color: #D2E3FC;\n",
              "      --hover-bg-color: #434B5C;\n",
              "      --hover-fill-color: #FFFFFF;\n",
              "      --disabled-bg-color: #3B4455;\n",
              "      --disabled-fill-color: #666;\n",
              "  }\n",
              "\n",
              "  .colab-df-quickchart {\n",
              "    background-color: var(--bg-color);\n",
              "    border: none;\n",
              "    border-radius: 50%;\n",
              "    cursor: pointer;\n",
              "    display: none;\n",
              "    fill: var(--fill-color);\n",
              "    height: 32px;\n",
              "    padding: 0;\n",
              "    width: 32px;\n",
              "  }\n",
              "\n",
              "  .colab-df-quickchart:hover {\n",
              "    background-color: var(--hover-bg-color);\n",
              "    box-shadow: 0 1px 2px rgba(60, 64, 67, 0.3), 0 1px 3px 1px rgba(60, 64, 67, 0.15);\n",
              "    fill: var(--button-hover-fill-color);\n",
              "  }\n",
              "\n",
              "  .colab-df-quickchart-complete:disabled,\n",
              "  .colab-df-quickchart-complete:disabled:hover {\n",
              "    background-color: var(--disabled-bg-color);\n",
              "    fill: var(--disabled-fill-color);\n",
              "    box-shadow: none;\n",
              "  }\n",
              "\n",
              "  .colab-df-spinner {\n",
              "    border: 2px solid var(--fill-color);\n",
              "    border-color: transparent;\n",
              "    border-bottom-color: var(--fill-color);\n",
              "    animation:\n",
              "      spin 1s steps(1) infinite;\n",
              "  }\n",
              "\n",
              "  @keyframes spin {\n",
              "    0% {\n",
              "      border-color: transparent;\n",
              "      border-bottom-color: var(--fill-color);\n",
              "      border-left-color: var(--fill-color);\n",
              "    }\n",
              "    20% {\n",
              "      border-color: transparent;\n",
              "      border-left-color: var(--fill-color);\n",
              "      border-top-color: var(--fill-color);\n",
              "    }\n",
              "    30% {\n",
              "      border-color: transparent;\n",
              "      border-left-color: var(--fill-color);\n",
              "      border-top-color: var(--fill-color);\n",
              "      border-right-color: var(--fill-color);\n",
              "    }\n",
              "    40% {\n",
              "      border-color: transparent;\n",
              "      border-right-color: var(--fill-color);\n",
              "      border-top-color: var(--fill-color);\n",
              "    }\n",
              "    60% {\n",
              "      border-color: transparent;\n",
              "      border-right-color: var(--fill-color);\n",
              "    }\n",
              "    80% {\n",
              "      border-color: transparent;\n",
              "      border-right-color: var(--fill-color);\n",
              "      border-bottom-color: var(--fill-color);\n",
              "    }\n",
              "    90% {\n",
              "      border-color: transparent;\n",
              "      border-bottom-color: var(--fill-color);\n",
              "    }\n",
              "  }\n",
              "</style>\n",
              "\n",
              "  <script>\n",
              "    async function quickchart(key) {\n",
              "      const quickchartButtonEl =\n",
              "        document.querySelector('#' + key + ' button');\n",
              "      quickchartButtonEl.disabled = true;  // To prevent multiple clicks.\n",
              "      quickchartButtonEl.classList.add('colab-df-spinner');\n",
              "      try {\n",
              "        const charts = await google.colab.kernel.invokeFunction(\n",
              "            'suggestCharts', [key], {});\n",
              "      } catch (error) {\n",
              "        console.error('Error during call to suggestCharts:', error);\n",
              "      }\n",
              "      quickchartButtonEl.classList.remove('colab-df-spinner');\n",
              "      quickchartButtonEl.classList.add('colab-df-quickchart-complete');\n",
              "    }\n",
              "    (() => {\n",
              "      let quickchartButtonEl =\n",
              "        document.querySelector('#df-a7dcf769-dfd8-4e72-bb34-0030d4abccfe button');\n",
              "      quickchartButtonEl.style.display =\n",
              "        google.colab.kernel.accessAllowed ? 'block' : 'none';\n",
              "    })();\n",
              "  </script>\n",
              "</div>\n",
              "\n",
              "    </div>\n",
              "  </div>\n"
            ],
            "application/vnd.google.colaboratory.intrinsic+json": {
              "type": "dataframe",
              "variable_name": "sample",
              "summary": "{\n  \"name\": \"sample\",\n  \"rows\": 28000,\n  \"fields\": [\n    {\n      \"column\": \"ImageId\",\n      \"properties\": {\n        \"dtype\": \"number\",\n        \"std\": 8083,\n        \"min\": 1,\n        \"max\": 28000,\n        \"num_unique_values\": 28000,\n        \"samples\": [\n          18407,\n          5035,\n          18326\n        ],\n        \"semantic_type\": \"\",\n        \"description\": \"\"\n      }\n    },\n    {\n      \"column\": \"Label\",\n      \"properties\": {\n        \"dtype\": \"number\",\n        \"std\": 2,\n        \"min\": 0,\n        \"max\": 9,\n        \"num_unique_values\": 10,\n        \"samples\": [\n          6,\n          0,\n          5\n        ],\n        \"semantic_type\": \"\",\n        \"description\": \"\"\n      }\n    }\n  ]\n}"
            }
          },
          "metadata": {},
          "execution_count": 54
        }
      ]
    },
    {
      "cell_type": "code",
      "source": [
        "sample.to_csv('/content/submission.csv', index=False)"
      ],
      "metadata": {
        "id": "R98wavJW9vxN"
      },
      "execution_count": 55,
      "outputs": []
    },
    {
      "cell_type": "code",
      "source": [
        "y_pred_dev, _ = forward_propagation(X_test, parameters, 'relu')\n",
        "y_pred_dev = np.argmax(y_pred_dev, 0)\n",
        "y_true = np.argmax(y_test,0)"
      ],
      "metadata": {
        "id": "Zdf1acja9ygp"
      },
      "execution_count": 56,
      "outputs": []
    },
    {
      "cell_type": "code",
      "source": [
        "index = np.argwhere([y_pred_dev != y_true])[:,1]"
      ],
      "metadata": {
        "id": "oklcutBJ90-f"
      },
      "execution_count": 57,
      "outputs": []
    },
    {
      "cell_type": "code",
      "source": [
        "X_test[:,4].shape"
      ],
      "metadata": {
        "colab": {
          "base_uri": "https://localhost:8080/"
        },
        "id": "_IzCSI6d93Kt",
        "outputId": "208d02eb-f082-4c46-9dd4-c452b42174c7"
      },
      "execution_count": 58,
      "outputs": [
        {
          "output_type": "execute_result",
          "data": {
            "text/plain": [
              "(784,)"
            ]
          },
          "metadata": {},
          "execution_count": 58
        }
      ]
    },
    {
      "cell_type": "code",
      "source": [
        "ins= 23\n",
        "\n",
        "current_image = X_test[:, index[ins], None]\n",
        "print(\"Prediction: \", y_pred_dev[index[ins]])\n",
        "print(\"Label: \", y_true[index[ins]])\n",
        "\n",
        "current_image = current_image.reshape((28, 28)) * 255\n",
        "plt.gray()\n",
        "plt.imshow(current_image, interpolation='nearest')\n",
        "plt.show()"
      ],
      "metadata": {
        "colab": {
          "base_uri": "https://localhost:8080/",
          "height": 465
        },
        "id": "Bflvk-Gt96Ft",
        "outputId": "c80079a3-6eca-436d-8f71-c441e38ff5a8"
      },
      "execution_count": 59,
      "outputs": [
        {
          "output_type": "stream",
          "name": "stdout",
          "text": [
            "Prediction:  4\n",
            "Label:  2\n"
          ]
        },
        {
          "output_type": "display_data",
          "data": {
            "text/plain": [
              "<Figure size 640x480 with 1 Axes>"
            ],
            "image/png": "[encoded data removed]"
          },
          "metadata": {}
        }
      ]
    },
    {
      "cell_type": "code",
      "source": [
        "def along(X_ff, Y_ff, layers_dims, parameters, t, seed, learning_rate = 0.3, num_epochs = 30000, lambd = 0.01, mini_batch_size = 64, beta = 0.9,\n",
        "          beta1 = 0.9, beta2 = 0.999,  epsilon = 1e-8, activation = 'relu', print_cost = True):\n",
        "    v,s = initialize_adam(parameters)\n",
        "    # Loop (gradient descent)\n",
        "    costs = []\n",
        "    for i in range(num_epochs):\n",
        "\n",
        "        cost_total = 0\n",
        "\n",
        "        # Define the random minibatches. We increment the seed to reshuffle differently the dataset after each epoch\n",
        "        seed = seed + 1\n",
        "        minibatches = random_mini_batches(X_ff, Y_ff, mini_batch_size, seed)\n",
        "\n",
        "        for minibatch in minibatches:\n",
        "\n",
        "            # Select a minibatch\n",
        "            (minibatch_X, minibatch_Y) = minibatch\n",
        "\n",
        "\n",
        "            # Forward propagation: LINEAR -> RELU -> LINEAR -> RELU -> LINEAR -> SIGMOID.\n",
        "            AL, cache = forward_propagation(minibatch_X, parameters, activation)\n",
        "\n",
        "            # compute the cost\n",
        "            cost_total += compute_cost(AL, minibatch_Y, parameters=parameters, lambd=lambd)\n",
        "\n",
        "            # Backward propagation.\n",
        "            grads = backward_propagation(AL, minibatch_Y, parameters, cache, lambd, activation)\n",
        "\n",
        "            # Update parameters.\n",
        "            t = t + 1 # Adam counter\n",
        "            parameters, v, s = update_parameters_with_adam(parameters, grads, v, s,\n",
        "                                                               t, learning_rate, beta1, beta2,  epsilon)\n",
        "            # parameters = update_parameters(parameters, grads,learning_rate=learning_rate)\n",
        "\n",
        "\n",
        "        # Print the cost every 1000 epoch\n",
        "        if print_cost and i % 2 == 0:\n",
        "            # learning_rate *= 1 / (1+0.96*i)\n",
        "            print(\"\\niter:{} \\t cost: {} \\t train_acc:{} \\t dev_acc:{}\".format(i, np.round(cost_total, 2), predict(X_ff, Y_ff, parameters, activation), predict(x.T, y.T, parameters, activation)))\n",
        "        if print_cost and i % 1 == 0:\n",
        "            costs.append(cost_total)\n",
        "        if i % 1 == 0:\n",
        "            print('=', end='')\n",
        "    return parameters"
      ],
      "metadata": {
        "id": "huR6sjrF9-s1"
      },
      "execution_count": 60,
      "outputs": []
    },
    {
      "cell_type": "code",
      "source": [
        "y_along = y_test[:,index]\n",
        "X_along = X_test[:,index]"
      ],
      "metadata": {
        "id": "T_teD9FV-A8N"
      },
      "execution_count": 61,
      "outputs": []
    },
    {
      "cell_type": "code",
      "source": [
        "layer_dims = [X_along.shape[0], 255, 128, 64, 32, 16,y_along.shape[0]]\n",
        "par = along(\n",
        "                    X_along, y_along,\n",
        "                    learning_rate=0.007, lambd=0.01,\n",
        "                    num_epochs=20, mini_batch_size = 32,\n",
        "                    beta1 = 0.9, beta2 = 0.999, epsilon = 1e-8,\n",
        "                    activation = 'relu',\n",
        "                    layers_dims = layer_dims,\n",
        "                    parameters = parameters,\n",
        "                    t = t,\n",
        "                    seed = seed\n",
        "                    )"
      ],
      "metadata": {
        "colab": {
          "base_uri": "https://localhost:8080/"
        },
        "id": "4LlPQe9q-DiI",
        "outputId": "fed08ee0-0ae2-4ba3-d5d5-45ebe9ac1e8b"
      },
      "execution_count": 62,
      "outputs": [
        {
          "output_type": "stream",
          "name": "stdout",
          "text": [
            "\n",
            "iter:0 \t cost: 72.34 \t train_acc:0.25 \t dev_acc:0.2\n",
            "==\n",
            "iter:2 \t cost: 11.8 \t train_acc:0.18 \t dev_acc:0.2\n",
            "==\n",
            "iter:4 \t cost: 11.22 \t train_acc:0.15 \t dev_acc:0.1\n",
            "==\n",
            "iter:6 \t cost: 11.43 \t train_acc:0.15 \t dev_acc:0.1\n",
            "==\n",
            "iter:8 \t cost: 11.45 \t train_acc:0.15 \t dev_acc:0.1\n",
            "==\n",
            "iter:10 \t cost: 11.42 \t train_acc:0.15 \t dev_acc:0.1\n",
            "==\n",
            "iter:12 \t cost: 11.25 \t train_acc:0.15 \t dev_acc:0.1\n",
            "==\n",
            "iter:14 \t cost: 11.22 \t train_acc:0.15 \t dev_acc:0.1\n",
            "==\n",
            "iter:16 \t cost: 11.08 \t train_acc:0.15 \t dev_acc:0.1\n",
            "==\n",
            "iter:18 \t cost: 11.02 \t train_acc:0.15 \t dev_acc:0.1\n",
            "=="
          ]
        }
      ]
    },
    {
      "cell_type": "code",
      "source": [
        "y_pred_dev, _ = forward_propagation(x.T, par, 'relu')\n",
        "y_pred_dev = np.argmax(y_pred_dev, 0)\n",
        "y_true = np.argmax(y.T,0)"
      ],
      "metadata": {
        "id": "R2bLCU-K-NAW"
      },
      "execution_count": 63,
      "outputs": []
    },
    {
      "cell_type": "code",
      "source": [
        "y_true[y_pred_dev == y_true].shape"
      ],
      "metadata": {
        "colab": {
          "base_uri": "https://localhost:8080/"
        },
        "id": "QYUccTRQ-R2M",
        "outputId": "7b2d6f8f-90b1-4c25-cf1c-6562ff538656"
      },
      "execution_count": 65,
      "outputs": [
        {
          "output_type": "execute_result",
          "data": {
            "text/plain": [
              "(4351,)"
            ]
          },
          "metadata": {},
          "execution_count": 65
        }
      ]
    },
    {
      "cell_type": "code",
      "source": [
        "from google.colab import files\n",
        "\n",
        "# Download the file\n",
        "files.download('/content/submission.csv')"
      ],
      "metadata": {
        "colab": {
          "base_uri": "https://localhost:8080/",
          "height": 17
        },
        "id": "amcKE8EM-7NN",
        "outputId": "799444e2-c6b8-4c47-995e-0105e33d68ca"
      },
      "execution_count": 66,
      "outputs": [
        {
          "output_type": "display_data",
          "data": {
            "text/plain": [
              "<IPython.core.display.Javascript object>"
            ],
            "application/javascript": [
              "\n",
              "    async function download(id, filename, size) {\n",
              "      if (!google.colab.kernel.accessAllowed) {\n",
              "        return;\n",
              "      }\n",
              "      const div = document.createElement('div');\n",
              "      const label = document.createElement('label');\n",
              "      label.textContent = `Downloading \"${filename}\": `;\n",
              "      div.appendChild(label);\n",
              "      const progress = document.createElement('progress');\n",
              "      progress.max = size;\n",
              "      div.appendChild(progress);\n",
              "      document.body.appendChild(div);\n",
              "\n",
              "      const buffers = [];\n",
              "      let downloaded = 0;\n",
              "\n",
              "      const channel = await google.colab.kernel.comms.open(id);\n",
              "      // Send a message to notify the kernel that we're ready.\n",
              "      channel.send({})\n",
              "\n",
              "      for await (const message of channel.messages) {\n",
              "        // Send a message to notify the kernel that we're ready.\n",
              "        channel.send({})\n",
              "        if (message.buffers) {\n",
              "          for (const buffer of message.buffers) {\n",
              "            buffers.push(buffer);\n",
              "            downloaded += buffer.byteLength;\n",
              "            progress.value = downloaded;\n",
              "          }\n",
              "        }\n",
              "      }\n",
              "      const blob = new Blob(buffers, {type: 'application/binary'});\n",
              "      const a = document.createElement('a');\n",
              "      a.href = window.URL.createObjectURL(blob);\n",
              "      a.download = filename;\n",
              "      div.appendChild(a);\n",
              "      a.click();\n",
              "      div.remove();\n",
              "    }\n",
              "  "
            ]
          },
          "metadata": {}
        },
        {
          "output_type": "display_data",
          "data": {
            "text/plain": [
              "<IPython.core.display.Javascript object>"
            ],
            "application/javascript": [
              "download(\"download_7d393017-8c6c-4483-b422-60ece9a0e4a9\", \"submission.csv\", 212908)"
            ]
          },
          "metadata": {}
        }
      ]
    }
  ]
}